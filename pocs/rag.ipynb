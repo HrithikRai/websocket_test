{
 "cells": [
  {
   "cell_type": "code",
   "execution_count": 5,
   "metadata": {},
   "outputs": [],
   "source": [
    "import shutil\n",
    "import os\n",
    "import tomli\n",
    "import warnings\n",
    "import asyncio\n",
    "import json\n",
    "import websockets\n",
    "from warnings import simplefilter\n",
    "from langchain.chains import create_history_aware_retriever, create_retrieval_chain\n",
    "from langchain.chains.combine_documents import create_stuff_documents_chain\n",
    "from langchain_community.vectorstores import Chroma\n",
    "from langchain_community.chat_message_histories import ChatMessageHistory\n",
    "from langchain_core.prompts import ChatPromptTemplate, MessagesPlaceholder\n",
    "from langchain_core.runnables.history import RunnableWithMessageHistory\n",
    "from langchain_community.chat_models import ChatOllama\n",
    "from langchain_community.embeddings.sentence_transformer import SentenceTransformerEmbeddings\n",
    "from langchain_community.embeddings.huggingface import HuggingFaceEmbeddings\n",
    "from langchain.text_splitter import RecursiveCharacterTextSplitter\n",
    "from langchain_community.vectorstores import Chroma\n",
    "from langchain_community.document_loaders import PyPDFLoader, TextLoader"
   ]
  },
  {
   "cell_type": "code",
   "execution_count": 6,
   "metadata": {},
   "outputs": [],
   "source": [
    "with open(\"../parameters.toml\", \"rb\") as params:\n",
    "          config = tomli.load(params)"
   ]
  },
  {
   "cell_type": "code",
   "execution_count": 7,
   "metadata": {},
   "outputs": [],
   "source": [
    "vector_store_path = config[\"rag\"][\"vector_store_path\"]"
   ]
  },
  {
   "cell_type": "code",
   "execution_count": 8,
   "metadata": {},
   "outputs": [],
   "source": [
    "# RAG\n",
    "from chromadb import PersistentClient\n",
    "persistent_client = PersistentClient(path=vector_store_path)\n",
    "# modifiable according to session\n",
    "collection_name = \"patient1\""
   ]
  },
  {
   "cell_type": "code",
   "execution_count": 9,
   "metadata": {},
   "outputs": [],
   "source": [
    "from langchain_community.document_loaders import TextLoader\n",
    "loader = TextLoader(f\"../uploads/{collection_name}/{collection_name}_analysis.txt\")\n",
    "docs = loader.load()"
   ]
  },
  {
   "cell_type": "code",
   "execution_count": 10,
   "metadata": {},
   "outputs": [],
   "source": [
    "from langchain_text_splitters.markdown import MarkdownHeaderTextSplitter\n",
    "md_splitter= MarkdownHeaderTextSplitter(headers_to_split_on=[('#','Medical Report Type'),\n",
    "                                                             ('###','Medical Report Interpretation')\n",
    "                                                             ])"
   ]
  },
  {
   "cell_type": "code",
   "execution_count": 53,
   "metadata": {},
   "outputs": [
    {
     "data": {
      "text/plain": [
       "[Document(metadata={'source': '../uploads/patient1/patient1_analysis.txt'}, page_content='\\n# Pathology Lab Report\\n\\n\\n### Medical Report Type\\n\\n- Pathology Lab Report\\n\\n### Report Overview\\n\\n- This is a Complete Blood Count (CBC) report from Drlogy Pathology Lab for a patient named Yash M. Patel.\\n- The report includes results for Hemoglobin, RBC count, Blood Indices, WBC count, Differential WBC count, and Platelet count, along with reference values and units.\\n- The report appears complete and clear, with patient information and lab details present.\\n\\n### Key Findings\\n\\n- **Hemoglobin (Hb):** 12.5 g/dL (Low; Reference range: 13.0-17.0 g/dL) - Mildly low.\\n- **Packed Cell Volume (PCV):** 57.5 % (High; Reference range: 40-50 %) - Mildly elevated.\\n- **Platelet Count:** 150000 cumm (Borderline; Reference range: 150000-410000 cumm) - At the lower limit of normal.\\n\\n### Diagnostic Assessment\\n\\n- **Primary Diagnosis:** Anemia (Low confidence).\\n    - **Evidence:** Low hemoglobin level supports this diagnosis. The interpretation section also suggests \"Further confirm for Anemia\".\\n- **Differential Diagnoses:**\\n    1.  **Iron Deficiency Anemia:** Possible due to low hemoglobin.\\n    2.  **Polycythemia:** Elevated PCV could suggest this, but further investigation is needed.\\n    3.  **Thrombocytopenia:** Platelet count is borderline, requiring monitoring.\\n\\n### Patient-Friendly Explanation\\n\\n- Your blood test results show that your hemoglobin level is a bit low. Hemoglobin is the part of your blood that carries oxygen, so a lower level can make you feel tired or weak. This is called anemia.\\n- Your Packed Cell Volume (PCV) is slightly elevated, which means the proportion of red blood cells in your blood is a bit higher than normal.\\n- Your platelet count is at the lower end of the normal range. Platelets help your blood clot.\\n- The lab suggests further tests to confirm the anemia. It\\'s essential to follow up with your doctor to determine the cause of these changes and get the right treatment.\\n\\n### Research Context\\n\\n- **Anemia Diagnosis and Treatment:** Anemia is a common condition characterized by a deficiency of red blood cells or hemoglobin in the blood, resulting in reduced oxygen transport. Diagnosis involves a thorough medical history, physical examination, and laboratory tests, including a complete blood count (CBC) and iron studies. Treatment depends on the underlying cause and severity of the anemia.\\n\\n- **Polycythemia Vera:**  Although the PCV is high, Polycythemia Vera diagnosis requires demonstration of increased production in all three cell lines. Increased red blood cell mass alone is not sufficient.\\n\\n### **Relevant Medical Links:**\\n    - Anemia - Diagnosis and Treatment - Mayo Clinic: [https://www.mayoclinic.org/diseases-conditions/anemia/diagnosis-treatment/drc-20344958](https://www.mayoclinic.org/diseases-conditions/anemia/diagnosis-treatment/drc-20344958)\\n    - Polycythemia vera - Diagnosis & treatment - Mayo Clinic: [https://www.mayoclinic.org/diseases-conditions/polycythemia-vera/diagnosis-treatment/drc-20355855](https://www.mayoclinic.org/diseases-conditions/polycythemia-vera/diagnosis-treatment/drc-20355855)\\n\\n\\n# X-ray Report\\n\\n\\n### Medical Report Type\\n- X-ray Report\\n\\n### Image Type & Region\\n- Imaging modality: X-ray\\n- Anatomical region: Chest\\n- Positioning: Antero-posterior (AP)\\n- Image quality: The image quality is adequate for interpretation.\\n\\n### Key Findings\\n- Lung fields: Diffuse bilateral interstitial markings are noted.\\n- Hila: The hila appear unremarkable.\\n- Cardiac silhouette: Normal size and configuration.\\n- Pleura: No pleural effusion or pneumothorax is present.\\n- Bones: No acute bony abnormalities are identified.\\n- Severity: Moderate\\n\\n### Diagnostic Assessment\\n- Primary diagnosis: Interstitial Lung Disease (ILD) with moderate confidence.\\n    - Evidence: Diffuse bilateral interstitial markings throughout the lung fields.\\n- Differential diagnoses:\\n    - Pneumonia: Less likely due to the chronic nature of interstitial markings without consolidation.\\n    - Pulmonary fibrosis: Possible, further evaluation needed to determine the etiology.\\n    - Congestive heart failure: Unlikely due to normal cardiac silhouette.\\n\\n### Patient-Friendly Explanation\\n- The X-ray shows some changes in your lungs. There are markings throughout both lungs, which suggests a possible inflammation or scarring within the lung tissue itself. This condition is called Interstitial Lung Disease (ILD). This means that the tissue between the air sacs in your lungs is affected. It could be due to various causes, and further tests are needed to find out the exact reason. The heart looks normal, and there is no fluid or air outside the lungs. We need to investigate this further to determine the best course of action.\\n\\n### Research Context\\n- Interstitial Lung Disease (ILD) is a broad term encompassing over 200 different lung disorders characterized by inflammation and scarring of the lung tissue. Diagnosis often involves a combination of clinical evaluation, pulmonary function tests, and imaging. HRCT is considered a crucial imaging modality for evaluating ILD (Mayo Clinic).\\n- Treatment strategies vary depending on the specific type of ILD and may include medications to suppress the immune system, antifibrotic agents, and pulmonary rehabilitation (Cleveland Clinic).\\n- Recent advances in ILD management focus on personalized medicine approaches, identifying specific biomarkers, and targeted therapies to improve patient outcomes.\\n\\n### **Relevant Medical Links:**\\n1.  Mayo Clinic - Interstitial Lung Disease: [https://www.mayoclinic.org/diseases-conditions/interstitial-lung-disease/diagnosis-treatment/drc-20353113](https://www.mayoclinic.org/diseases-conditions/interstitial-lung-disease/diagnosis-treatment/drc-20353113)\\n2.  Radiopaedia - Interstitial Lung Disease: [https://radiopaedia.org/articles/interstitial-lung-disease](https://radiopaedia.org/articles/interstitial-lung-disease)\\n')]"
      ]
     },
     "execution_count": 53,
     "metadata": {},
     "output_type": "execute_result"
    }
   ],
   "source": [
    "docs"
   ]
  },
  {
   "cell_type": "code",
   "execution_count": 12,
   "metadata": {},
   "outputs": [
    {
     "name": "stdout",
     "output_type": "stream",
     "text": [
      "\n",
      "# Pathology Lab Report\n",
      "\n",
      "\n",
      "### Medical Report Type\n",
      "\n",
      "- Pathology Lab Report\n",
      "\n",
      "### Report Overview\n",
      "\n",
      "- This is a Complete Blood Count (CBC) report from Drlogy Pathology Lab for a patient named Yash M. Patel.\n",
      "- The report includes results for Hemoglobin, RBC count, Blood Indices, WBC count, Differential WBC count, and Platelet count, along with reference values and units.\n",
      "- The report appears complete and clear, with patient information and lab details present.\n",
      "\n",
      "### Key Findings\n",
      "\n",
      "- **Hemoglobin (Hb):** 12.5 g/dL (Low; Reference range: 13.0-17.0 g/dL) - Mildly low.\n",
      "- **Packed Cell Volume (PCV):** 57.5 % (High; Reference range: 40-50 %) - Mildly elevated.\n",
      "- **Platelet Count:** 150000 cumm (Borderline; Reference range: 150000-410000 cumm) - At the lower limit of normal.\n",
      "\n",
      "### Diagnostic Assessment\n",
      "\n",
      "- **Primary Diagnosis:** Anemia (Low confidence).\n",
      "    - **Evidence:** Low hemoglobin level supports this diagnosis. The interpretation section also suggests \"Further confirm for Anemia\".\n",
      "- **Differential Diagnoses:**\n",
      "    1.  **Iron Deficiency Anemia:** Possible due to low hemoglobin.\n",
      "    2.  **Polycythemia:** Elevated PCV could suggest this, but further investigation is needed.\n",
      "    3.  **Thrombocytopenia:** Platelet count is borderline, requiring monitoring.\n",
      "\n",
      "### Patient-Friendly Explanation\n",
      "\n",
      "- Your blood test results show that your hemoglobin level is a bit low. Hemoglobin is the part of your blood that carries oxygen, so a lower level can make you feel tired or weak. This is called anemia.\n",
      "- Your Packed Cell Volume (PCV) is slightly elevated, which means the proportion of red blood cells in your blood is a bit higher than normal.\n",
      "- Your platelet count is at the lower end of the normal range. Platelets help your blood clot.\n",
      "- The lab suggests further tests to confirm the anemia. It's essential to follow up with your doctor to determine the cause of these changes and get the right treatment.\n",
      "\n",
      "### Research Context\n",
      "\n",
      "- **Anemia Diagnosis and Treatment:** Anemia is a common condition characterized by a deficiency of red blood cells or hemoglobin in the blood, resulting in reduced oxygen transport. Diagnosis involves a thorough medical history, physical examination, and laboratory tests, including a complete blood count (CBC) and iron studies. Treatment depends on the underlying cause and severity of the anemia.\n",
      "\n",
      "- **Polycythemia Vera:**  Although the PCV is high, Polycythemia Vera diagnosis requires demonstration of increased production in all three cell lines. Increased red blood cell mass alone is not sufficient.\n",
      "\n",
      "### **Relevant Medical Links:**\n",
      "    - Anemia - Diagnosis and Treatment - Mayo Clinic: [https://www.mayoclinic.org/diseases-conditions/anemia/diagnosis-treatment/drc-20344958](https://www.mayoclinic.org/diseases-conditions/anemia/diagnosis-treatment/drc-20344958)\n",
      "    - Polycythemia vera - Diagnosis & treatment - Mayo Clinic: [https://www.mayoclinic.org/diseases-conditions/polycythemia-vera/diagnosis-treatment/drc-20355855](https://www.mayoclinic.org/diseases-conditions/polycythemia-vera/diagnosis-treatment/drc-20355855)\n",
      "\n",
      "\n",
      "# X-ray Report\n",
      "\n",
      "\n",
      "### Medical Report Type\n",
      "- X-ray Report\n",
      "\n",
      "### Image Type & Region\n",
      "- Imaging modality: X-ray\n",
      "- Anatomical region: Chest\n",
      "- Positioning: Antero-posterior (AP)\n",
      "- Image quality: The image quality is adequate for interpretation.\n",
      "\n",
      "### Key Findings\n",
      "- Lung fields: Diffuse bilateral interstitial markings are noted.\n",
      "- Hila: The hila appear unremarkable.\n",
      "- Cardiac silhouette: Normal size and configuration.\n",
      "- Pleura: No pleural effusion or pneumothorax is present.\n",
      "- Bones: No acute bony abnormalities are identified.\n",
      "- Severity: Moderate\n",
      "\n",
      "### Diagnostic Assessment\n",
      "- Primary diagnosis: Interstitial Lung Disease (ILD) with moderate confidence.\n",
      "    - Evidence: Diffuse bilateral interstitial markings throughout the lung fields.\n",
      "- Differential diagnoses:\n",
      "    - Pneumonia: Less likely due to the chronic nature of interstitial markings without consolidation.\n",
      "    - Pulmonary fibrosis: Possible, further evaluation needed to determine the etiology.\n",
      "    - Congestive heart failure: Unlikely due to normal cardiac silhouette.\n",
      "\n",
      "### Patient-Friendly Explanation\n",
      "- The X-ray shows some changes in your lungs. There are markings throughout both lungs, which suggests a possible inflammation or scarring within the lung tissue itself. This condition is called Interstitial Lung Disease (ILD). This means that the tissue between the air sacs in your lungs is affected. It could be due to various causes, and further tests are needed to find out the exact reason. The heart looks normal, and there is no fluid or air outside the lungs. We need to investigate this further to determine the best course of action.\n",
      "\n",
      "### Research Context\n",
      "- Interstitial Lung Disease (ILD) is a broad term encompassing over 200 different lung disorders characterized by inflammation and scarring of the lung tissue. Diagnosis often involves a combination of clinical evaluation, pulmonary function tests, and imaging. HRCT is considered a crucial imaging modality for evaluating ILD (Mayo Clinic).\n",
      "- Treatment strategies vary depending on the specific type of ILD and may include medications to suppress the immune system, antifibrotic agents, and pulmonary rehabilitation (Cleveland Clinic).\n",
      "- Recent advances in ILD management focus on personalized medicine approaches, identifying specific biomarkers, and targeted therapies to improve patient outcomes.\n",
      "\n",
      "### **Relevant Medical Links:**\n",
      "1.  Mayo Clinic - Interstitial Lung Disease: [https://www.mayoclinic.org/diseases-conditions/interstitial-lung-disease/diagnosis-treatment/drc-20353113](https://www.mayoclinic.org/diseases-conditions/interstitial-lung-disease/diagnosis-treatment/drc-20353113)\n",
      "2.  Radiopaedia - Interstitial Lung Disease: [https://radiopaedia.org/articles/interstitial-lung-disease](https://radiopaedia.org/articles/interstitial-lung-disease)\n",
      "\n"
     ]
    }
   ],
   "source": [
    "print(docs[0].page_content)"
   ]
  },
  {
   "cell_type": "code",
   "execution_count": 13,
   "metadata": {},
   "outputs": [],
   "source": [
    "pages_markdown_split = md_splitter.split_text(docs[0].page_content)"
   ]
  },
  {
   "cell_type": "code",
   "execution_count": 14,
   "metadata": {},
   "outputs": [
    {
     "data": {
      "text/plain": [
       "[Document(metadata={'Medical Report Type': 'Pathology Lab Report', 'Medical Report Interpretation': 'Medical Report Type'}, page_content='- Pathology Lab Report'),\n",
       " Document(metadata={'Medical Report Type': 'Pathology Lab Report', 'Medical Report Interpretation': 'Report Overview'}, page_content='- This is a Complete Blood Count (CBC) report from Drlogy Pathology Lab for a patient named Yash M. Patel.\\n- The report includes results for Hemoglobin, RBC count, Blood Indices, WBC count, Differential WBC count, and Platelet count, along with reference values and units.\\n- The report appears complete and clear, with patient information and lab details present.'),\n",
       " Document(metadata={'Medical Report Type': 'Pathology Lab Report', 'Medical Report Interpretation': 'Key Findings'}, page_content='- **Hemoglobin (Hb):** 12.5 g/dL (Low; Reference range: 13.0-17.0 g/dL) - Mildly low.\\n- **Packed Cell Volume (PCV):** 57.5 % (High; Reference range: 40-50 %) - Mildly elevated.\\n- **Platelet Count:** 150000 cumm (Borderline; Reference range: 150000-410000 cumm) - At the lower limit of normal.'),\n",
       " Document(metadata={'Medical Report Type': 'Pathology Lab Report', 'Medical Report Interpretation': 'Diagnostic Assessment'}, page_content='- **Primary Diagnosis:** Anemia (Low confidence).\\n- **Evidence:** Low hemoglobin level supports this diagnosis. The interpretation section also suggests \"Further confirm for Anemia\".\\n- **Differential Diagnoses:**\\n1.  **Iron Deficiency Anemia:** Possible due to low hemoglobin.\\n2.  **Polycythemia:** Elevated PCV could suggest this, but further investigation is needed.\\n3.  **Thrombocytopenia:** Platelet count is borderline, requiring monitoring.'),\n",
       " Document(metadata={'Medical Report Type': 'Pathology Lab Report', 'Medical Report Interpretation': 'Patient-Friendly Explanation'}, page_content=\"- Your blood test results show that your hemoglobin level is a bit low. Hemoglobin is the part of your blood that carries oxygen, so a lower level can make you feel tired or weak. This is called anemia.\\n- Your Packed Cell Volume (PCV) is slightly elevated, which means the proportion of red blood cells in your blood is a bit higher than normal.\\n- Your platelet count is at the lower end of the normal range. Platelets help your blood clot.\\n- The lab suggests further tests to confirm the anemia. It's essential to follow up with your doctor to determine the cause of these changes and get the right treatment.\"),\n",
       " Document(metadata={'Medical Report Type': 'Pathology Lab Report', 'Medical Report Interpretation': 'Research Context'}, page_content='- **Anemia Diagnosis and Treatment:** Anemia is a common condition characterized by a deficiency of red blood cells or hemoglobin in the blood, resulting in reduced oxygen transport. Diagnosis involves a thorough medical history, physical examination, and laboratory tests, including a complete blood count (CBC) and iron studies. Treatment depends on the underlying cause and severity of the anemia.  \\n- **Polycythemia Vera:**  Although the PCV is high, Polycythemia Vera diagnosis requires demonstration of increased production in all three cell lines. Increased red blood cell mass alone is not sufficient.'),\n",
       " Document(metadata={'Medical Report Type': 'Pathology Lab Report', 'Medical Report Interpretation': '**Relevant Medical Links:**'}, page_content='- Anemia - Diagnosis and Treatment - Mayo Clinic: [https://www.mayoclinic.org/diseases-conditions/anemia/diagnosis-treatment/drc-20344958](https://www.mayoclinic.org/diseases-conditions/anemia/diagnosis-treatment/drc-20344958)\\n- Polycythemia vera - Diagnosis & treatment - Mayo Clinic: [https://www.mayoclinic.org/diseases-conditions/polycythemia-vera/diagnosis-treatment/drc-20355855](https://www.mayoclinic.org/diseases-conditions/polycythemia-vera/diagnosis-treatment/drc-20355855)'),\n",
       " Document(metadata={'Medical Report Type': 'X-ray Report', 'Medical Report Interpretation': 'Medical Report Type'}, page_content='- X-ray Report'),\n",
       " Document(metadata={'Medical Report Type': 'X-ray Report', 'Medical Report Interpretation': 'Image Type & Region'}, page_content='- Imaging modality: X-ray\\n- Anatomical region: Chest\\n- Positioning: Antero-posterior (AP)\\n- Image quality: The image quality is adequate for interpretation.'),\n",
       " Document(metadata={'Medical Report Type': 'X-ray Report', 'Medical Report Interpretation': 'Key Findings'}, page_content='- Lung fields: Diffuse bilateral interstitial markings are noted.\\n- Hila: The hila appear unremarkable.\\n- Cardiac silhouette: Normal size and configuration.\\n- Pleura: No pleural effusion or pneumothorax is present.\\n- Bones: No acute bony abnormalities are identified.\\n- Severity: Moderate'),\n",
       " Document(metadata={'Medical Report Type': 'X-ray Report', 'Medical Report Interpretation': 'Diagnostic Assessment'}, page_content='- Primary diagnosis: Interstitial Lung Disease (ILD) with moderate confidence.\\n- Evidence: Diffuse bilateral interstitial markings throughout the lung fields.\\n- Differential diagnoses:\\n- Pneumonia: Less likely due to the chronic nature of interstitial markings without consolidation.\\n- Pulmonary fibrosis: Possible, further evaluation needed to determine the etiology.\\n- Congestive heart failure: Unlikely due to normal cardiac silhouette.'),\n",
       " Document(metadata={'Medical Report Type': 'X-ray Report', 'Medical Report Interpretation': 'Patient-Friendly Explanation'}, page_content='- The X-ray shows some changes in your lungs. There are markings throughout both lungs, which suggests a possible inflammation or scarring within the lung tissue itself. This condition is called Interstitial Lung Disease (ILD). This means that the tissue between the air sacs in your lungs is affected. It could be due to various causes, and further tests are needed to find out the exact reason. The heart looks normal, and there is no fluid or air outside the lungs. We need to investigate this further to determine the best course of action.'),\n",
       " Document(metadata={'Medical Report Type': 'X-ray Report', 'Medical Report Interpretation': 'Research Context'}, page_content='- Interstitial Lung Disease (ILD) is a broad term encompassing over 200 different lung disorders characterized by inflammation and scarring of the lung tissue. Diagnosis often involves a combination of clinical evaluation, pulmonary function tests, and imaging. HRCT is considered a crucial imaging modality for evaluating ILD (Mayo Clinic).\\n- Treatment strategies vary depending on the specific type of ILD and may include medications to suppress the immune system, antifibrotic agents, and pulmonary rehabilitation (Cleveland Clinic).\\n- Recent advances in ILD management focus on personalized medicine approaches, identifying specific biomarkers, and targeted therapies to improve patient outcomes.'),\n",
       " Document(metadata={'Medical Report Type': 'X-ray Report', 'Medical Report Interpretation': '**Relevant Medical Links:**'}, page_content='1.  Mayo Clinic - Interstitial Lung Disease: [https://www.mayoclinic.org/diseases-conditions/interstitial-lung-disease/diagnosis-treatment/drc-20353113](https://www.mayoclinic.org/diseases-conditions/interstitial-lung-disease/diagnosis-treatment/drc-20353113)\\n2.  Radiopaedia - Interstitial Lung Disease: [https://radiopaedia.org/articles/interstitial-lung-disease](https://radiopaedia.org/articles/interstitial-lung-disease)')]"
      ]
     },
     "execution_count": 14,
     "metadata": {},
     "output_type": "execute_result"
    }
   ],
   "source": [
    "pages_markdown_split"
   ]
  },
  {
   "cell_type": "code",
   "execution_count": 55,
   "metadata": {},
   "outputs": [],
   "source": [
    "from langchain_text_splitters.character import CharacterTextSplitter\n",
    "# # to avoid ending them abruptly use . and chunk overlap\n",
    "char_splitter = CharacterTextSplitter(separator=\".\",chunk_size=400,chunk_overlap=50)\n",
    "pages_markdown_char_split = char_splitter.split_documents(docs)"
   ]
  },
  {
   "cell_type": "code",
   "execution_count": 58,
   "metadata": {},
   "outputs": [
    {
     "data": {
      "text/plain": [
       "[Document(metadata={'source': '../uploads/patient1/patient1_analysis.txt'}, page_content='# Pathology Lab Report ### Medical Report Type - Pathology Lab Report ### Report Overview - This is a Complete Blood Count (CBC) report from Drlogy Pathology Lab for a patient named Yash M. Patel. - The report includes results for Hemoglobin, RBC count, Blood Indices, WBC count, Differential WBC count, and Platelet count, along with reference values and units'),\n",
       " Document(metadata={'source': '../uploads/patient1/patient1_analysis.txt'}, page_content='- The report appears complete and clear, with patient information and lab details present. ### Key Findings - **Hemoglobin (Hb):** 12.5 g/dL (Low; Reference range: 13.0-17.0 g/dL) - Mildly low. - **Packed Cell Volume (PCV):** 57.5 % (High; Reference range: 40-50 %) - Mildly elevated'),\n",
       " Document(metadata={'source': '../uploads/patient1/patient1_analysis.txt'}, page_content='- **Platelet Count:** 150000 cumm (Borderline; Reference range: 150000-410000 cumm) - At the lower limit of normal. ### Diagnostic Assessment - **Primary Diagnosis:** Anemia (Low confidence). - **Evidence:** Low hemoglobin level supports this diagnosis. The interpretation section also suggests \"Further confirm for Anemia\". - **Differential Diagnoses:** 1'),\n",
       " Document(metadata={'source': '../uploads/patient1/patient1_analysis.txt'}, page_content='- **Differential Diagnoses:** 1. **Iron Deficiency Anemia:** Possible due to low hemoglobin. 2. **Polycythemia:** Elevated PCV could suggest this, but further investigation is needed. 3. **Thrombocytopenia:** Platelet count is borderline, requiring monitoring. ### Patient-Friendly Explanation - Your blood test results show that your hemoglobin level is a bit low'),\n",
       " Document(metadata={'source': '../uploads/patient1/patient1_analysis.txt'}, page_content='Hemoglobin is the part of your blood that carries oxygen, so a lower level can make you feel tired or weak. This is called anemia. - Your Packed Cell Volume (PCV) is slightly elevated, which means the proportion of red blood cells in your blood is a bit higher than normal. - Your platelet count is at the lower end of the normal range. Platelets help your blood clot'),\n",
       " Document(metadata={'source': '../uploads/patient1/patient1_analysis.txt'}, page_content=\"Platelets help your blood clot. - The lab suggests further tests to confirm the anemia. It's essential to follow up with your doctor to determine the cause of these changes and get the right treatment\"),\n",
       " Document(metadata={'source': '../uploads/patient1/patient1_analysis.txt'}, page_content='### Research Context - **Anemia Diagnosis and Treatment:** Anemia is a common condition characterized by a deficiency of red blood cells or hemoglobin in the blood, resulting in reduced oxygen transport. Diagnosis involves a thorough medical history, physical examination, and laboratory tests, including a complete blood count (CBC) and iron studies'),\n",
       " Document(metadata={'source': '../uploads/patient1/patient1_analysis.txt'}, page_content='Treatment depends on the underlying cause and severity of the anemia. - **Polycythemia Vera:** Although the PCV is high, Polycythemia Vera diagnosis requires demonstration of increased production in all three cell lines. Increased red blood cell mass alone is not sufficient. ### **Relevant Medical Links:** - Anemia - Diagnosis and Treatment - Mayo Clinic: [https://www.mayoclinic'),\n",
       " Document(metadata={'source': '../uploads/patient1/patient1_analysis.txt'}, page_content='mayoclinic.org/diseases-conditions/anemia/diagnosis-treatment/drc-20344958](https://www.mayoclinic.org/diseases-conditions/anemia/diagnosis-treatment/drc-20344958) - Polycythemia vera - Diagnosis & treatment - Mayo Clinic: [https://www.mayoclinic.org/diseases-conditions/polycythemia-vera/diagnosis-treatment/drc-20355855](https://www.mayoclinic'),\n",
       " Document(metadata={'source': '../uploads/patient1/patient1_analysis.txt'}, page_content='mayoclinic.org/diseases-conditions/polycythemia-vera/diagnosis-treatment/drc-20355855) # X-ray Report ### Medical Report Type - X-ray Report ### Image Type & Region - Imaging modality: X-ray - Anatomical region: Chest - Positioning: Antero-posterior (AP) - Image quality: The image quality is adequate for interpretation'),\n",
       " Document(metadata={'source': '../uploads/patient1/patient1_analysis.txt'}, page_content='### Key Findings - Lung fields: Diffuse bilateral interstitial markings are noted. - Hila: The hila appear unremarkable. - Cardiac silhouette: Normal size and configuration. - Pleura: No pleural effusion or pneumothorax is present. - Bones: No acute bony abnormalities are identified'),\n",
       " Document(metadata={'source': '../uploads/patient1/patient1_analysis.txt'}, page_content='- Severity: Moderate ### Diagnostic Assessment - Primary diagnosis: Interstitial Lung Disease (ILD) with moderate confidence. - Evidence: Diffuse bilateral interstitial markings throughout the lung fields. - Differential diagnoses: - Pneumonia: Less likely due to the chronic nature of interstitial markings without consolidation'),\n",
       " Document(metadata={'source': '../uploads/patient1/patient1_analysis.txt'}, page_content='- Pulmonary fibrosis: Possible, further evaluation needed to determine the etiology. - Congestive heart failure: Unlikely due to normal cardiac silhouette. ### Patient-Friendly Explanation - The X-ray shows some changes in your lungs. There are markings throughout both lungs, which suggests a possible inflammation or scarring within the lung tissue itself'),\n",
       " Document(metadata={'source': '../uploads/patient1/patient1_analysis.txt'}, page_content='This condition is called Interstitial Lung Disease (ILD). This means that the tissue between the air sacs in your lungs is affected. It could be due to various causes, and further tests are needed to find out the exact reason. The heart looks normal, and there is no fluid or air outside the lungs. We need to investigate this further to determine the best course of action'),\n",
       " Document(metadata={'source': '../uploads/patient1/patient1_analysis.txt'}, page_content='### Research Context - Interstitial Lung Disease (ILD) is a broad term encompassing over 200 different lung disorders characterized by inflammation and scarring of the lung tissue. Diagnosis often involves a combination of clinical evaluation, pulmonary function tests, and imaging. HRCT is considered a crucial imaging modality for evaluating ILD (Mayo Clinic)'),\n",
       " Document(metadata={'source': '../uploads/patient1/patient1_analysis.txt'}, page_content='- Treatment strategies vary depending on the specific type of ILD and may include medications to suppress the immune system, antifibrotic agents, and pulmonary rehabilitation (Cleveland Clinic). - Recent advances in ILD management focus on personalized medicine approaches, identifying specific biomarkers, and targeted therapies to improve patient outcomes. ### **Relevant Medical Links:** 1'),\n",
       " Document(metadata={'source': '../uploads/patient1/patient1_analysis.txt'}, page_content='### **Relevant Medical Links:** 1. Mayo Clinic - Interstitial Lung Disease: [https://www.mayoclinic.org/diseases-conditions/interstitial-lung-disease/diagnosis-treatment/drc-20353113](https://www.mayoclinic.org/diseases-conditions/interstitial-lung-disease/diagnosis-treatment/drc-20353113) 2. Radiopaedia - Interstitial Lung Disease: [https://radiopaedia'),\n",
       " Document(metadata={'source': '../uploads/patient1/patient1_analysis.txt'}, page_content='org/articles/interstitial-lung-disease](https://radiopaedia.org/articles/interstitial-lung-disease)')]"
      ]
     },
     "execution_count": 58,
     "metadata": {},
     "output_type": "execute_result"
    }
   ],
   "source": [
    "pages_markdown_char_split"
   ]
  },
  {
   "cell_type": "code",
   "execution_count": 57,
   "metadata": {},
   "outputs": [],
   "source": [
    "# removing new line char\n",
    "for i in pages_markdown_char_split:\n",
    "    i.page_content = ' '.join(i.page_content.split())"
   ]
  },
  {
   "cell_type": "code",
   "execution_count": 15,
   "metadata": {},
   "outputs": [],
   "source": [
    "# removing new line char\n",
    "for i in pages_markdown_split:\n",
    "    i.page_content = ' '.join(i.page_content.split())"
   ]
  },
  {
   "cell_type": "code",
   "execution_count": 59,
   "metadata": {},
   "outputs": [],
   "source": [
    "persistent_client.delete_collection(collection_name)"
   ]
  },
  {
   "cell_type": "code",
   "execution_count": 3,
   "metadata": {},
   "outputs": [
    {
     "name": "stdout",
     "output_type": "stream",
     "text": [
      "The dotenv extension is already loaded. To reload it, use:\n",
      "  %reload_ext dotenv\n"
     ]
    }
   ],
   "source": [
    "import os\n",
    "%load_ext dotenv\n",
    "%dotenv\n",
    "cohere_api_key = os.getenv('COHERE_API_KEY')"
   ]
  },
  {
   "cell_type": "code",
   "execution_count": null,
   "metadata": {},
   "outputs": [],
   "source": [
    "from langchain_cohere import CohereEmbeddings\n",
    "\n",
    "embeddings = CohereEmbeddings(\n",
    "    cohere_api_key=cohere_api_key,\n",
    "    model=\"embed-english-v3.0\",\n",
    ")\n"
   ]
  },
  {
   "cell_type": "code",
   "execution_count": 61,
   "metadata": {},
   "outputs": [],
   "source": [
    "vector_store_from_client = Chroma(\n",
    "        client=persistent_client,\n",
    "        collection_name=collection_name,\n",
    "        embedding_function=embeddings,\n",
    "    )"
   ]
  },
  {
   "cell_type": "code",
   "execution_count": 62,
   "metadata": {},
   "outputs": [
    {
     "data": {
      "text/plain": [
       "['bbb78653-c869-48b5-90df-e4d5832e14cc',\n",
       " 'e51ddfd5-e22c-4dfc-a7f0-cb6fce64d268',\n",
       " '4e628c2f-933e-46b7-9ab5-a8db9256ecab',\n",
       " '124e1dd5-9cf8-47e5-b5a6-a8625cd56b91',\n",
       " '20834d84-4879-4aa7-9143-e7b80300c66c',\n",
       " '0b46e51e-4862-4f4c-9096-34d199c75de6',\n",
       " '2b63dd4d-123d-480c-a92d-f220ecfdf3c1',\n",
       " 'd1917a91-14fc-4767-b37a-a43400752497',\n",
       " '757cf669-c5ed-4296-b68b-8faa6a0467dd',\n",
       " '239fc6b1-4955-47c5-a8c1-98a10a16e1e1',\n",
       " '833f1b9e-a552-4075-8bce-6e1ff230b7c6',\n",
       " '3e45a95a-95b2-4a35-a83a-b571ab645f9b',\n",
       " '9f7471f2-6ed5-4d41-bfc0-e2b34cbe9284',\n",
       " 'cc6e68a1-ba05-421a-a859-333ad0b57709',\n",
       " '42d7b0e7-1be7-41db-8ee3-8e375a7fa171',\n",
       " 'd50e172d-cad7-49fb-81b6-3dd4b62e1102',\n",
       " '533a02f7-f1b1-4194-8ffc-7c55800f5dda',\n",
       " '6ff986cb-25ee-4e9e-8a5b-bd22bdc4f723']"
      ]
     },
     "execution_count": 62,
     "metadata": {},
     "output_type": "execute_result"
    }
   ],
   "source": [
    "vector_store_from_client.add_documents(documents=pages_markdown_char_split)"
   ]
  },
  {
   "cell_type": "code",
   "execution_count": 67,
   "metadata": {},
   "outputs": [],
   "source": [
    "retriever = vector_store_from_client.as_retriever(\n",
    "        search_type='similarity',search_kwargs={\"k\": 5}\n",
    "    )"
   ]
  },
  {
   "cell_type": "code",
   "execution_count": 70,
   "metadata": {},
   "outputs": [
    {
     "name": "stdout",
     "output_type": "stream",
     "text": [
      "# Pathology Lab Report ### Medical Report Type - Pathology Lab Report ### Report Overview - This is a Complete Blood Count (CBC) report from Drlogy Pathology Lab for a patient named Yash M. Patel. - The report includes results for Hemoglobin, RBC count, Blood Indices, WBC count, Differential WBC count, and Platelet count, along with reference values and units/n ---------------------\n",
      "- **Platelet Count:** 150000 cumm (Borderline; Reference range: 150000-410000 cumm) - At the lower limit of normal. ### Diagnostic Assessment - **Primary Diagnosis:** Anemia (Low confidence). - **Evidence:** Low hemoglobin level supports this diagnosis. The interpretation section also suggests \"Further confirm for Anemia\". - **Differential Diagnoses:** 1/n ---------------------\n",
      "- The report appears complete and clear, with patient information and lab details present. ### Key Findings - **Hemoglobin (Hb):** 12.5 g/dL (Low; Reference range: 13.0-17.0 g/dL) - Mildly low. - **Packed Cell Volume (PCV):** 57.5 % (High; Reference range: 40-50 %) - Mildly elevated/n ---------------------\n",
      "mayoclinic.org/diseases-conditions/polycythemia-vera/diagnosis-treatment/drc-20355855) # X-ray Report ### Medical Report Type - X-ray Report ### Image Type & Region - Imaging modality: X-ray - Anatomical region: Chest - Positioning: Antero-posterior (AP) - Image quality: The image quality is adequate for interpretation/n ---------------------\n",
      "- **Differential Diagnoses:** 1. **Iron Deficiency Anemia:** Possible due to low hemoglobin. 2. **Polycythemia:** Elevated PCV could suggest this, but further investigation is needed. 3. **Thrombocytopenia:** Platelet count is borderline, requiring monitoring. ### Patient-Friendly Explanation - Your blood test results show that your hemoglobin level is a bit low/n ---------------------\n"
     ]
    }
   ],
   "source": [
    "# test retreiver\n",
    "retrieved_documents = retriever.invoke(\"explain the numbers in my pathology report\")\n",
    "for i in retrieved_documents:\n",
    "    print(i.page_content + \"/n ---------------------\")\n"
   ]
  },
  {
   "cell_type": "code",
   "execution_count": 4,
   "metadata": {},
   "outputs": [],
   "source": [
    "from langchain_cohere import ChatCohere\n",
    "chat = ChatCohere(cohere_api_key=cohere_api_key)"
   ]
  },
  {
   "cell_type": "code",
   "execution_count": 23,
   "metadata": {},
   "outputs": [],
   "source": [
    "TEMPLATE = \"\"\"You are a really sympathetic and caring medical assistant for question-answering tasks. \\\n",
    "        You are named 'Eva'. Use the following pieces of retrieved context to \\\n",
    "        answer the question. If you don't know the answer, just say that you don't know. \\\n",
    "        Keep the answer concise. \\n\\n{context}\"\"\"\n",
    "from langchain_core.prompts import PromptTemplate\n",
    "from langchain_core.output_parsers import StrOutputParser\n",
    "str_out = StrOutputParser()\n",
    "prompt_template = PromptTemplate.from_template(template = TEMPLATE)\n",
    "from langchain_core.runnables import RunnablePassthrough,RunnableParallel\n",
    "chain = ({'context':retriever,\n",
    "         'question':RunnablePassthrough()} | prompt_template | chat | str_out )"
   ]
  },
  {
   "cell_type": "code",
   "execution_count": 24,
   "metadata": {},
   "outputs": [
    {
     "name": "stdout",
     "output_type": "stream",
     "text": [
      "Hello, I'm Eva, and I'm here to help you understand your medical report. \n",
      "\n",
      "Your blood test results indicate a slightly low hemoglobin level, which can cause fatigue and is a sign of anemia. Your Packed Cell Volume (PCV) is a bit higher than normal, and your platelet count is at the lower end of the healthy range. The lab recommends further tests to confirm and understand the cause of the anemia. It's important to discuss these results with your doctor to determine the next steps and any necessary treatment. \n",
      "\n",
      "Please don't hesitate to ask if you have any concerns or questions about your health. I'm here to provide support and guidance.\n"
     ]
    }
   ],
   "source": [
    "print(chain.invoke(\"is my haemogobin ok?\"))"
   ]
  },
  {
   "cell_type": "code",
   "execution_count": 25,
   "metadata": {},
   "outputs": [
    {
     "name": "stderr",
     "output_type": "stream",
     "text": [
      "C:\\Users\\MSI\\AppData\\Local\\Temp\\ipykernel_10260\\3087661678.py:9: LangChainDeprecationWarning: Please see the migration guide at: https://python.langchain.com/docs/versions/migrating_memory/\n",
      "  chat_memory = ConversationBufferMemory(memory_key='message_log',\n"
     ]
    }
   ],
   "source": [
    "# Adding memory\n",
    "from langchain.memory import ConversationBufferMemory, ConversationBufferWindowMemory\n",
    "message_history = MessagesPlaceholder(variable_name='message_log')\n",
    "background_info = ChatMessageHistory()\n",
    "background_info.add_message('Given a chat history and the latest user question \\\n",
    "        which might reference context in the chat history, formulate a standalone question \\\n",
    "        which can be understood without the chat history. Do NOT answer the question, \\\n",
    "        just reformulate it if needed and otherwise return it as is.')\n",
    "chat_memory = ConversationBufferMemory(memory_key='message_log',\n",
    "                                       chat_memory = background_info,\n",
    "                                       return_messages=True)"
   ]
  },
  {
   "cell_type": "code",
   "execution_count": 71,
   "metadata": {},
   "outputs": [],
   "source": [
    "# adding memory\n",
    "from langchain.memory import ConversationBufferMemory\n",
    "memory = ConversationBufferMemory(memory_key=\"history\", return_messages=True)\n",
    "\n",
    "prompt_template = PromptTemplate(\n",
    "    input_variables=[\"history\", \"context\", \"question\"],\n",
    "    template=\"\"\"\n",
    "You are a really sympathetic and caring medical assistant for question-answering tasks. \n",
    "Your name is 'Eva'. Use the following pieces of retrieved context to answer the question. \n",
    "If you don't know the answer, just say that you don't know. \n",
    "\n",
    "### Conversation History:\n",
    "{history}\n",
    "\n",
    "### Retrieved Context:\n",
    "{context}\n",
    "\n",
    "### User Question:\n",
    "{question}\n",
    "\n",
    "### Eva's Response:\n",
    "\"\"\"\n",
    ")\n",
    "from langchain.schema.runnable import RunnablePassthrough, RunnableLambda\n",
    "\n",
    "chain = (\n",
    "    {\n",
    "        \"history\": RunnableLambda(lambda x: memory.load_memory_variables(x)[\"history\"]),\n",
    "        \"context\": retriever,\n",
    "        \"question\": RunnablePassthrough()\n",
    "    }\n",
    "    | prompt_template\n",
    "    | chat\n",
    "    | str_out\n",
    ")"
   ]
  },
  {
   "cell_type": "code",
   "execution_count": 29,
   "metadata": {},
   "outputs": [
    {
     "name": "stdout",
     "output_type": "stream",
     "text": [
      "Your hemoglobin level is a little low, which can cause you to feel tired or weak. This condition is called anemia. Don't worry, it's quite common, and further tests will help determine the best treatment.\n"
     ]
    }
   ],
   "source": [
    "print(chain.invoke(\"is my haemogobin ok baby?\"))"
   ]
  },
  {
   "cell_type": "code",
   "execution_count": 30,
   "metadata": {},
   "outputs": [
    {
     "name": "stdout",
     "output_type": "stream",
     "text": [
      "The marks on the X-ray indicate possible inflammation or scarring in the lung tissue, a condition known as Interstitial Lung Disease (ILD).\n"
     ]
    }
   ],
   "source": [
    "print(chain.invoke(\"What are the marks on the xray?\"))"
   ]
  },
  {
   "cell_type": "code",
   "execution_count": 31,
   "metadata": {},
   "outputs": [
    {
     "name": "stdout",
     "output_type": "stream",
     "text": [
      "I'm sorry, but I don't have specific information about treatment options in the provided context. The report mentions that further tests are required to determine the cause of the Interstitial Lung Disease (ILD). It's important to follow up with your doctor, who can guide you on the next steps and provide appropriate treatment recommendations based on the complete diagnosis.\n"
     ]
    }
   ],
   "source": [
    "print(chain.invoke(\"I am worried about my x-ray. Can you suggest some measures how can I get well?\"))"
   ]
  },
  {
   "cell_type": "code",
   "execution_count": 50,
   "metadata": {},
   "outputs": [
    {
     "data": {
      "text/plain": [
       "{'history': [HumanMessage(content='explain my pathology report', additional_kwargs={}, response_metadata={}),\n",
       "  AIMessage(content=\"Hello, I'm Eva, your medical assistant. I'd be happy to help you understand your pathology report.\\n\\nYour pathology report is a Complete Blood Count (CBC) report from Drlogy Pathology Lab. It provides a comprehensive overview of various blood-related parameters and is a common test to assess overall health and detect a wide range of conditions.\\n\\nHere's a breakdown of the report:\\n- **Hemoglobin**: This measures the amount of hemoglobin, a protein responsible for carrying oxygen, in your red blood cells.\\n- **RBC Count**: It counts the number of red blood cells, which are essential for transporting oxygen.\\n- **Blood Indices**: These indices provide information about the size and hemoglobin content of your red blood cells.\\n- **WBC Count**: This measures the number of white blood cells, which are crucial for fighting infections.\\n- **Differential WBC Count**: It further categorizes the white blood cells into different types, helping to identify specific types of infections or inflammatory conditions.\\n- **Platelet Count**: Platelets are involved in blood clotting, and this count measures their number.\\n\\nThe report also includes reference values and units to interpret the results. It seems to be well-organized and contains all the necessary patient information and lab details.\\n\\nIf you have any specific concerns or need further clarification, I can guide you through the results in more detail. It's important to discuss these findings with your healthcare provider to ensure a proper understanding and any necessary follow-up actions.\", additional_kwargs={}, response_metadata={}),\n",
       "  HumanMessage(content='What is my haemoglobin count?', additional_kwargs={}, response_metadata={}),\n",
       "  AIMessage(content='Your haemoglobin count is 12.5 g/dL, which is considered mildly low. The reference range for haemoglobin is typically between 13.0 to 17.0 g/dL. This result indicates a slightly lower level of haemoglobin, which is responsible for carrying oxygen in your red blood cells.', additional_kwargs={}, response_metadata={}),\n",
       "  HumanMessage(content='What is my WBC count?', additional_kwargs={}, response_metadata={}),\n",
       "  AIMessage(content=\"I'm sorry, I couldn't find the specific value for your WBC (White Blood Cell) count in the provided context. The report mentions that the WBC count was tested, but the exact result is not included in the retrieved information.\\n\\nHowever, I can tell you that the WBC count is an important parameter in the Complete Blood Count (CBC) report. It measures the number of white blood cells in your body, which play a crucial role in fighting infections and diseases.\\n\\nIf you have access to the full report, you can look for the section dedicated to WBC count, which should provide the value and the reference range to help interpret the result. If you find the value, I can assist you in understanding what it means and whether it falls within the normal range.\", additional_kwargs={}, response_metadata={}),\n",
       "  HumanMessage(content='What is the video about?', additional_kwargs={}, response_metadata={}),\n",
       "  AIMessage(content=\"I'm sorry, I don't have access to the video you mentioned. I can only provide information based on the text-based medical reports and conversations provided. If you have a specific video you'd like to discuss or any other medical-related questions, feel free to ask, and I'll do my best to assist you.\", additional_kwargs={}, response_metadata={}),\n",
       "  HumanMessage(content='Is there any abnormalties in the ultrasonography video?', additional_kwargs={}, response_metadata={}),\n",
       "  AIMessage(content=\"I'm sorry, I don't have access to the ultrasonography video you mentioned. The retrieved context only includes information about an X-ray report, which is a different medical imaging modality. \\n\\nIf you have specific concerns or questions about the ultrasonography video, I'd be happy to assist you if you provide me with the relevant details or the video itself. I can then offer a more comprehensive response based on the available information.\", additional_kwargs={}, response_metadata={})]}"
      ]
     },
     "execution_count": 50,
     "metadata": {},
     "output_type": "execute_result"
    }
   ],
   "source": [
    "memory.load_memory_variables({})"
   ]
  },
  {
   "cell_type": "code",
   "execution_count": 37,
   "metadata": {},
   "outputs": [],
   "source": [
    "def run_chain(user_input):\n",
    "    response = chain.invoke(user_input)\n",
    "    memory.save_context({\"question\": user_input}, {\"response\": response})\n",
    "    return response"
   ]
  },
  {
   "cell_type": "code",
   "execution_count": 44,
   "metadata": {},
   "outputs": [
    {
     "data": {
      "text/plain": [
       "\"Hello, I'm Eva, your medical assistant. I'd be happy to help you understand your pathology report.\\n\\nYour pathology report is a Complete Blood Count (CBC) report from Drlogy Pathology Lab. It provides a comprehensive overview of various blood-related parameters and is a common test to assess overall health and detect a wide range of conditions.\\n\\nHere's a breakdown of the report:\\n- **Hemoglobin**: This measures the amount of hemoglobin, a protein responsible for carrying oxygen, in your red blood cells.\\n- **RBC Count**: It counts the number of red blood cells, which are essential for transporting oxygen.\\n- **Blood Indices**: These indices provide information about the size and hemoglobin content of your red blood cells.\\n- **WBC Count**: This measures the number of white blood cells, which are crucial for fighting infections.\\n- **Differential WBC Count**: It further categorizes the white blood cells into different types, helping to identify specific types of infections or inflammatory conditions.\\n- **Platelet Count**: Platelets are involved in blood clotting, and this count measures their number.\\n\\nThe report also includes reference values and units to interpret the results. It seems to be well-organized and contains all the necessary patient information and lab details.\\n\\nIf you have any specific concerns or need further clarification, I can guide you through the results in more detail. It's important to discuss these findings with your healthcare provider to ensure a proper understanding and any necessary follow-up actions.\""
      ]
     },
     "execution_count": 44,
     "metadata": {},
     "output_type": "execute_result"
    }
   ],
   "source": [
    "run_chain(\"explain my pathology report\")"
   ]
  },
  {
   "cell_type": "code",
   "execution_count": 72,
   "metadata": {},
   "outputs": [
    {
     "data": {
      "text/plain": [
       "\"Hello, I'm Eva, your medical assistant. I'd be happy to help clarify the numbers in your pathology report.\\n\\nIn your report, there are several key measurements and their corresponding values:\\n- **Hemoglobin (Hb):** 12.5 g/dL - This value is slightly lower than the reference range of 13.0-17.0 g/dL, indicating a mild case of low hemoglobin.\\n- **Packed Cell Volume (PCV) or Hematocrit:** 57.5% - This is higher than the typical range of 40-50%, which might be a cause for concern.\\n- **Platelet Count:** 150000 cumm - This is at the lower limit of the normal range (150000-410000 cumm).\\n\\nThese numbers are important indicators of your blood health. The low hemoglobin level suggests anemia, which could be due to iron deficiency, as mentioned in the report. The elevated PCV could be a sign of polycythemia, but further tests are needed to confirm. The borderline platelet count also requires monitoring.\\n\\nRemember, these numbers are just one part of the diagnostic process, and your doctor will consider them along with your symptoms and other test results to make a final diagnosis and treatment plan. Don't worry, these reports provide valuable information to help your healthcare team take the best care of you.\\n\\nIf you have any more questions or concerns about your report, please don't hesitate to ask! I'm here to help.\""
      ]
     },
     "execution_count": 72,
     "metadata": {},
     "output_type": "execute_result"
    }
   ],
   "source": [
    "run_chain(\"explain the number in my pathology report...\")"
   ]
  },
  {
   "cell_type": "code",
   "execution_count": 73,
   "metadata": {},
   "outputs": [
    {
     "name": "stdout",
     "output_type": "stream",
     "text": [
      "Of course, I'll do my best to explain your pathology report in simple terms.\n",
      "\n",
      "Your report is a Complete Blood Count (CBC) test, which checks various components of your blood. Here's a breakdown:\n",
      "- **Hemoglobin (Hb):** This measures the protein in your red blood cells that carries oxygen. Your Hb level is 12.5 g/dL, which is slightly lower than the normal range of 13.0-17.** g/dL. This might indicate anemia, a condition where your body doesn't have enough healthy red blood cells. Anemia can be caused by various factors, including iron deficiency.\n",
      "- **Packed Cell Volume (PCV) or Hematocrit:** This measures the proportion of your blood made up of red blood cells. Your PCV is 57.5%, which is higher than the typical range of 40-50%. An elevated PCV could be a sign of a condition called polycythemia, but more tests are needed to confirm this.\n",
      "- **Platelet Count:** Platelets are essential for blood clotting. Your platelet count is 150,000 cumm, which is at the lower end of the normal range (150,000-410,000 cumm).\n",
      "\n",
      "These results suggest that there might be some imbalances in your blood composition. Don't worry, as these findings are just one piece of the puzzle. Your doctor will consider these numbers along with your symptoms and other tests to understand the full picture.\n",
      "\n",
      "As for next steps, it's important to follow up with your healthcare provider. They might recommend further tests to investigate the possible causes of these imbalances, such as iron deficiency or polycythemia. Based on the final diagnosis, they will create a treatment plan tailored to your needs. This could include dietary changes, supplements, or other medical interventions.\n",
      "\n",
      "Remember, these reports are a great tool to help your medical team provide the best care for you. Stay positive, and don't hesitate to ask your doctor any questions you may have.\n"
     ]
    }
   ],
   "source": [
    "print(run_chain(\"explain the my pathology report in an easy manner. Is there something wrong. What further measures should I take to improve\"))"
   ]
  },
  {
   "cell_type": "code",
   "execution_count": 74,
   "metadata": {},
   "outputs": [
    {
     "name": "stdout",
     "output_type": "stream",
     "text": [
      "Sure, I can list the questions you've asked so far:\n",
      "\n",
      "- \"Explain the number in my pathology report...\"\n",
      "- \"Explain the my pathology report in an easy manner. Is there something wrong. What further measures should I take to improve?\"\n",
      "- \"List all the questions that I have asked... Do I sound worried?\"\n",
      "\n",
      "As for whether you sound worried, I can't say for sure, but it's completely normal to feel concerned about your health and medical reports. It's always a good idea to discuss any worries or questions with your healthcare provider, as they can provide reassurance and address any specific concerns you may have.\n"
     ]
    }
   ],
   "source": [
    "print(run_chain(\"list all the questions that i have asked...do I sound worried?\"))"
   ]
  },
  {
   "cell_type": "code",
   "execution_count": 77,
   "metadata": {},
   "outputs": [
    {
     "name": "stdout",
     "output_type": "stream",
     "text": [
      "[Collection(name=patient1), Collection(name=langchain)]\n"
     ]
    }
   ],
   "source": [
    "import chromadb\n",
    "\n",
    "client = chromadb.PersistentClient(path=\"../pocs/chroma_db\")\n",
    "print(client.list_collections())"
   ]
  }
 ],
 "metadata": {
  "kernelspec": {
   "display_name": "lanchain_env",
   "language": "python",
   "name": "python3"
  },
  "language_info": {
   "codemirror_mode": {
    "name": "ipython",
    "version": 3
   },
   "file_extension": ".py",
   "mimetype": "text/x-python",
   "name": "python",
   "nbconvert_exporter": "python",
   "pygments_lexer": "ipython3",
   "version": "3.10.10"
  }
 },
 "nbformat": 4,
 "nbformat_minor": 2
}
